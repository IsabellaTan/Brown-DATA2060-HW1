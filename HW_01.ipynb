{
 "cells": [
  {
   "cell_type": "markdown",
   "metadata": {},
   "source": [
    "# **Homework 1**\n",
    "\n",
    "Due: September 17th, 5pm (late submission until September 20nd, 5pm -- no submission possible afterwards)\n",
    "\n",
    "Note that you'll need to submit a pdf version of your notebook and the ipynb file as well on Gradescope!\n",
    "\n",
    "25 points total (Problem 1: 8 points, Problem 2: 6 points, Coding Assignment: 11 points)"
   ]
  },
  {
   "cell_type": "markdown",
   "metadata": {},
   "source": [
    "### Name: [Yawen Tan]\n",
    "\n",
    "### Link to the github repo: [https://github.com/IsabellaTan/Brown-DATA2060-HW1.git]"
   ]
  },
  {
   "cell_type": "markdown",
   "metadata": {},
   "source": [
    "## **Written Assignment**\n",
    "\n",
    "### Introduction: Solidifying Background\n",
    "\n",
    "The purpose of this portion is to fortify your background in probability\n",
    "and statistics, linear algebra, and algorithmic analysis. The topics\n",
    "explored here will be used many times throughout this course.  \n",
    "  \n",
    "You may be able to find answers to these problems by searching the\n",
    "problem text. Please search instead for the concepts being applied; the\n",
    "goal is not to solve these specific problems, but to be comfortable with\n",
    "the principles that will be applied later in the course."
   ]
  },
  {
   "cell_type": "markdown",
   "metadata": {},
   "source": [
    "### **Problem 1: Bayes' Rule** (8 points)\n",
    "\n",
    "Bayes' Rule, or Bayes' Theorem is an oft-used identity coming from\n",
    "probability theory. If we have two events of interest, *A* and *B*, we\n",
    "might want to ask what the probability of *B* is, given that we know *A*\n",
    "happened.\n",
    "\n",
    "$$P(B|A) = \\frac{P(A|B) P(B)}{P(A)}$$\n",
    "\n",
    "Note that this is the same as\n",
    "\n",
    "$$P(B|A) = \\frac{P(A \\cap B)}{P(A)}.$$\n",
    "\n",
    "Later in this course, the parts of this formula may be relabeled:\n",
    "\n",
    "$$\\text{Posterior} = \\frac{\\text{Likelihood} * \\text{Prior}}{\\text{Evidence}}$$\n",
    "\n",
    "This rule will be explicitly used in Bayesian algorithms, but it is also a principle that will *implicitly* underlie almost all of our machine learning algorithms. This problem consists of four parts, each worth 2 points (1 point if the answer is correct and an additional point for showing correct work). As a hint, none of the four parts have the same answer.  \n",
    "\n",
    "For the purposes of this question, assume that desserts have equal probability of being a cake or ice cream and uniform probability of being any of the following 7 flavors: chocolate, vanilla, strawberry, coconut, cookies & cream, fudge, and raspberry.  \n",
    "\n",
    "1.  Suppose Steve has two desserts. What is the probability that both desserts are cakes?  \n",
    "\n",
    "2.  Suppose Paul has two desserts, the first of which is ice cream. What is the probability that both desserts are ice cream?\n",
    "\n",
    "3.  Suppose Chace has two desserts and at least one is a cake. What is the probability that both desserts are cakes?\n",
    "\n",
    "4.  Suppose Andrew has two desserts and at least one is chocolate flavored ice cream. What is the probability that both desserts are ice cream?\n"
   ]
  },
  {
   "cell_type": "markdown",
   "metadata": {},
   "source": [
    "**Solution:**\n",
    "\n",
    "1. \n",
    "\n",
    "Since probabilities for having desserts and having desserts are equal, so that:  \n",
    "\n",
    "$$P(cake) = \\frac{1}{2}$$\n",
    "\n",
    "Since having both cake are independent, so that:\n",
    "\n",
    "$$ P(cake \\cap cake ) = P(cake) * P(cake)  = \\frac{1}{2} * \\frac{1}{2} = \\frac{1}{4}$$\n",
    "\n",
    "Thus, the probability that both desserts are cakes is 1/4\n",
    "        \n",
    "2. \n",
    "\n",
    "Since the first dessert is ice cream, then this question is about conditional probability. And we want to know P(ice cream | ice cream).\n",
    "\n",
    "Based on the formula above, we know:\n",
    "\n",
    "$$P(ice \\: cream | ice \\: cream) = \\frac{P(ice \\: cream \\cap ice \\: cream)}{P(ice \\: cream)}.$$\n",
    "\n",
    "Since from question 1, we know $$P(cake \\cap cake ) = 1/4$$\n",
    "\n",
    "And since desserts have equal probability of being a cake or ice cream, then\n",
    "\n",
    "$$P(ice \\: cream) = \\frac{1}{2}$$\n",
    "\n",
    "$$P(ice \\: cream \\cap ice \\: cream ) = \\frac{1}{4} $$\n",
    "\n",
    "So we plug them into equation and get:\n",
    "\n",
    "$$P(ice \\: cream | ice \\: cream) = \\frac{P(ice \\: cream \\cap ice \\: cream)}{P(ice \\: cream)} = \\frac{1/4}{1/2} = \\frac{1}{2} $$\n",
    "\n",
    "Thus, when the first of which is ice cream, the probability that both desserts are ice cream is 1/2.\n",
    "\n",
    "3. \n",
    "\n",
    "Since at least one dessert is cake, then this question is about conditional probability. And we want to know P(both two cake | at least one cake)\n",
    "\n",
    "Based on the formula above, we know:\n",
    "\n",
    "$$P(both \\: two \\: cake | at \\: least \\: one \\: cake ) = \\frac{P(at \\: least \\: one \\: cake|both \\: two \\: cake) P(both \\: two \\: cake)}{P(at \\: least \\: one \\: cake)}$$\n",
    "\n",
    "Since P(at least one cake|both two cake) = 1, and based on question 1, P(both two cake) = 1/4, then we need to find P(at least one cake).\n",
    "\n",
    "Since P(at least one cake) = 1 - P(both two ice cream), then P(at least one cake) = 1 - 1/4 = 3/4.\n",
    "\n",
    "So we plug P(at least one cake) and P(both two cake) and P(at least one cake|both two cake) into equation and get: \n",
    "\n",
    "$$P(both \\: two \\: cake | at \\: least \\: one \\: cake )  \\\\ \n",
    "= \\frac{P(at \\: least \\: one \\: cake|both \\: two \\: cake) P(both \\: two \\: cake)}{P(at \\: least \\: one \\: cake)} \\\\ \n",
    "= \\frac{1* 1/4}{3/4} = \\frac{1}{3} $$\n",
    "\n",
    "Thus, when at least one is a cake, the probability that both desserts are cakes is 1/3.\n",
    "\n",
    "4. \n",
    "\n",
    "Since at least one dessert is chocolate ice cream, then this question is about conditional probability. And we want to know P(both two ice cream | at least one chocolate ice cream)\n",
    "\n",
    "Based on the formula above, we know:\n",
    "\n",
    "$$P(both \\: two \\: ice \\: cream | at \\: least \\: one \\: chocolate \\: ice \\: cream ) \n",
    "\n",
    "= \\frac{P(both \\: two \\: ice \\: cream \\cap at \\: least \\: one \\: chocolate \\: ice \\: cream)}{P(at \\: least \\: one \\: chocolate \\: ice \\: cream )} $$\n",
    "\n",
    "Firstly, we calculate P(at least one chocolate ice cream). \n",
    "\n",
    "Since the type of the desserts and the flavors of the desserts are independent and there are 7 flavors desserts, so that:\n",
    "\n",
    "$$P(chocolate \\: ice \\: cream) = P (ice \\: cream) * P (chocolate \\: flavor) =  1/2 * 1/7 = 1/14$$\n",
    "\n",
    "So P(not chocolate ice cream) = 1 - P(chocolate ice cream) = 1 - 1/14 = 13/14, then P(two desserts are not chocolate ice cream) = P(not chocolate ice cream) * P(not chocolate ice cream) = 13/14 * 13/14 = 169/196. \n",
    "\n",
    "Then P(at least one chocolate ice cream) = 1- P(two desserts are not chocolate ice cream) = 1 - 169/196 = 27/196. \n",
    "\n",
    "Secondly, we calculate P(both two ice cream and at least one chocolate ice cream).\n",
    "\n",
    "Based on the Inclusion-Exclusion Principle, P(both two ice cream and at least one chocolate ice cream) = P(first ice cream is chocolate and second ice cream is random) + P(first ice cream is random and second ice cream is chocolate) - P(both ice cream are chocolate).\n",
    "\n",
    "Then since P (chocolate ice cream) = 1/14, so P(both two ice cream and at least one chocolate ice cream) = 1/14 * 1/2 +  1/2 * 1/14 - 1/14*1/14 = 13/196\n",
    "\n",
    "So we plug P(both two ice cream and at least one chocolate ice cream) and P(at least one chocolate ice cream) into equation and get: \n",
    "\n",
    "$$P(both \\: two \\: ice \\: cream | at \\: least \\: one \\: chocolate \\: ice \\: cream )  \\\\ \n",
    "\n",
    "= \\frac{P(both \\: two \\: ice \\: cream \\cap at \\: least \\: one \\: chocolate \\: ice \\: cream)}{P(at \\: least \\: one \\: chocolate \\: ice \\: cream )}  \\\\ \n",
    "\n",
    "= \\frac{13/196}{27/196} = \\frac{13}{27}$$\n",
    "\n",
    "Thus, when at least one is chocolate flavored ice cream, the probability that both desserts are ice cream is 13/27.\n",
    "\n",
    "\n",
    "\n"
   ]
  },
  {
   "cell_type": "markdown",
   "metadata": {},
   "source": [
    "### **Problem 2: Linear algebra review** (6 points)\n",
    "\n",
    "1. Let A = $\\begin{bmatrix} 4 & -5 & 0 & 1 \\\\ 2 & 8 & 0 & 0 \\\\ -1 & 5 & 3 & 2 \\end{bmatrix}$ and B = $\\begin{bmatrix} 3 & -1 & 2 \\\\ 4 & 2 & 0 \\end{bmatrix}$. Calculate the products AB, A<sup>T</sup>B, BA and B<sup>T</sup>A! Solve this problem in markdown without code.\n",
    "\n",
    "2. Describe what a determinant is, why it is important, and how to calculate it for a 3$\\times$3 matrix!\n",
    "\n",
    "3. Let $A = \\in\\mathbb{R}^{n,n}$ be a matrix. A nonzero vector $u$ is an eigenvector of $A$ with a corresponding eigenvalue $\\lambda$ if $Au = \\lambda u$. We call the eigenvector together with its eigenvalue an eigenpair. Find matrix $A$ with eigenpairs ([1,0],2) and ([1,1],3). Solve this problem in markdown without code."
   ]
  },
  {
   "cell_type": "markdown",
   "metadata": {},
   "source": [
    "**Solution:**\n",
    "\n",
    "1. \n",
    "\n",
    "Firstly, we calculate the product AB. \n",
    "\n",
    "Since A is a 3*4 matrix and B is 2 * 3 matrix，then the number of column of A doesn't match the number of row of B, so AB cannot be calculated.\n",
    "\n",
    "Secondly, we calcuate the product A<sup>T</sup>B.\n",
    "\n",
    "Since A<sup>T</sup> is a 4*3 matrix and B is 2 * 3 matrix, then the number of column of A<sup>T</sup> doesn't match the number of row of B, so A<sup>T</sup>B cannot be calculated.\n",
    "\n",
    "Thirdly, we calculate the product BA. \n",
    "\n",
    "Since B is 2 * 3 matrix and A is a 3 * 4 matrix, then BA is a 2 * 4 matrix.\n",
    "\n",
    "BA =\n",
    "$\\left[\n",
    "\\begin{smallmatrix}\n",
    "3*4 + (-1)*2 + 2*(-1) & 3*(-5) + (-1)*8 + 2*5 \\\\\n",
    "4*4 + 2*2 + 0*(-1) & 4*(-5)+2*8+0*5\n",
    "\\end{smallmatrix}\n",
    "\\right]$\n",
    " = $\\begin{bmatrix} 8 & -13 & 6 & 7 \\\\ 20 & -4 & 0 & 4 \\end{bmatrix}$\n",
    "\n",
    "Lastly, we calcuate the product B<sup>T</sup>A.\n",
    "\n",
    "Since B<sup>T</sup> is a 3 * 2 matrix and A is 3 * 4 matrix, then the number of column of B<sup>T</sup> doesn't match the number of row of A,, so B<sup>T</sup>A cannot be calculated.\n",
    "\n",
    "2.\n",
    "The determinant of a matrix is defined as the determinant of its induced transformation. That means, the determinant is multiplicative with respect to matrix multiplication (because it’s multiplicative with respect to function composition).  \n",
    "\n",
    "Determinant is important because we can use it to figure out if the matrix is invertible(if det!=0, then invertible), and find the eigenvalue/eigenvector, and use Cramer’s rule to solve function.\n",
    "\n",
    "For a 3*3 matrix P where P = $\\begin{bmatrix} a & b & c \\\\ d & e & f \\\\ g & h & i \\end{bmatrix}$\n",
    "\n",
    "det(P) = a(ei−fh)−b(di−fg)+c(dh−eg)\n",
    "\n",
    "3. \n",
    "\n",
    "Since the eigenvetors $u$ are 2-dimension, then we assume A is 2*2 matrix. \n",
    "\n",
    "Let A = $\\begin{bmatrix} a & b \\\\ c & d \\end{bmatrix}$\n",
    "\n",
    "Let eigenvector $u_1$ = [1,0] with corresponding eigenvalue $\\lambda _1$ = 2.\n",
    "\n",
    "Let eigenvector $u_2$ = [1,1] with corresponding eigenvalue  $\\lambda _2$ = 3.\n",
    "\n",
    "Since $u$ is an eigenvector of $A$ with a corresponding eigenvalue $\\lambda$ if $Au = \\lambda u$, then $Au_1 = \\lambda _1 u_1$ and $Au_2 = \\lambda _2 u_2$.\n",
    "\n",
    "We plug $u_1$, $u_2$, $\\lambda _1$, $\\lambda _2$ into equations and get: \n",
    "\n",
    "$\\begin{bmatrix} a & b \\\\ c & d \\end{bmatrix}$ $\\begin{bmatrix} 1 \\\\ 0 \\end{bmatrix}$ = $\\begin{bmatrix} a \\\\ c \\end{bmatrix}$ = 2 $\\begin{bmatrix} 1 \\\\ 0 \\end{bmatrix}$ = $\\begin{bmatrix} 2 \\\\ 0 \\end{bmatrix}$ \n",
    "\n",
    "$\\begin{bmatrix} a & b \\\\ c & d \\end{bmatrix}$ $\\begin{bmatrix} 1 \\\\ 1 \\end{bmatrix}$ = $\\begin{bmatrix} a+b \\\\ c+d \\end{bmatrix}$ = 3 $\\begin{bmatrix} 1 \\\\ 1 \\end{bmatrix}$ = $\\begin{bmatrix} 3 \\\\ 3 \\end{bmatrix}$ \n",
    "\n",
    "So, we get a = 2, c=0, b=1, d=3. \n",
    "\n",
    "Thus, A = $\\begin{bmatrix} 2 & 1 \\\\ 0 & 3 \\end{bmatrix}$.\n",
    "\n",
    "\n",
    "\n",
    "\n",
    "\n"
   ]
  },
  {
   "cell_type": "markdown",
   "metadata": {},
   "source": [
    "## **Coding Assignment**\n",
    "\n",
    "### **Numpy and Matplotlib**\n",
    "\n",
    "#### Introduction\n",
    "\n",
    "Please follow the instructions in [this](https://docs.google.com/document/d/1kIxl2TKIdWiRBRAzwgpRR-B7O2Fx_S0mz9ILVw8ATzY/edit?usp=sharing) google doc **before** you start the coding assignment. You will be asked to create a DATA2060 conda environment. We recommend that you use conda but if you are more familiar with other package managers (like docker, homebrew, poetry), feel free to use those. However, please note that the TAs might not be able to help if you do not use conda. The most important thing is to install the packages with their versions as shown in the data2060.yml file of the [course's github repository](https://github.com/BrownDSI/DATA2060-Fall2024). **Two points will be deducted for each failed test, and you'll receive -14 points if you do not run the cell below.**\n",
    "\n",
    "The purpose of this section is to introduce you to some tools that you will find useful and/or necessary in order to complete future homeworks. By the end of this assignment, you will have used numpy to perform efficient computations, loaded standard datasets using sklearn, and used matplotlib to visualize several performance metrics you will be using this semester. This homework will also get you familiar with the hand-in process for jupyter notebooks."
   ]
  },
  {
   "cell_type": "code",
   "execution_count": 1,
   "metadata": {},
   "outputs": [
    {
     "name": "stdout",
     "output_type": "stream",
     "text": [
      "\u001b[42m[ OK ]\u001b[0m Python version is 3.12.11\n",
      "\n",
      "\u001b[42m[ OK ]\u001b[0m matplotlib version 3.10.5 is installed.\n",
      "\u001b[42m[ OK ]\u001b[0m numpy version 2.3.2 is installed.\n",
      "\u001b[42m[ OK ]\u001b[0m sklearn version 1.7.1 is installed.\n",
      "\u001b[42m[ OK ]\u001b[0m pandas version 2.3.2 is installed.\n",
      "\u001b[42m[ OK ]\u001b[0m pytest version 8.4.1 is installed.\n",
      "\u001b[42m[ OK ]\u001b[0m torch version 2.7.1 is installed.\n"
     ]
    }
   ],
   "source": [
    "from __future__ import print_function\n",
    "from packaging.version import parse as Version\n",
    "from platform import python_version\n",
    "\n",
    "OK = '\\x1b[42m[ OK ]\\x1b[0m'\n",
    "FAIL = \"\\x1b[41m[FAIL]\\x1b[0m\"\n",
    "\n",
    "try:\n",
    "    import importlib\n",
    "except ImportError:\n",
    "    print(FAIL, \"Python version 3.12.11 is required,\"\n",
    "                \" but %s is installed.\" % sys.version)\n",
    "\n",
    "def import_version(pkg, min_ver, fail_msg=\"\"):\n",
    "    mod = None\n",
    "    try:\n",
    "        mod = importlib.import_module(pkg)\n",
    "        if pkg in {'PIL'}:\n",
    "            ver = mod.VERSION\n",
    "        else:\n",
    "            ver = mod.__version__\n",
    "        if Version(ver) == Version(min_ver):\n",
    "            print(OK, \"%s version %s is installed.\"\n",
    "                  % (lib, min_ver))\n",
    "        else:\n",
    "            print(FAIL, \"%s version %s is required, but %s installed.\"\n",
    "                  % (lib, min_ver, ver))    \n",
    "    except ImportError:\n",
    "        print(FAIL, '%s not installed. %s' % (pkg, fail_msg))\n",
    "    return mod\n",
    "\n",
    "\n",
    "# first check the python version\n",
    "pyversion = Version(python_version())\n",
    "\n",
    "if pyversion >= Version(\"3.12.11\"):\n",
    "    print(OK, \"Python version is %s\" % pyversion)\n",
    "elif pyversion < Version(\"3.12.11\"):\n",
    "    print(FAIL, \"Python version 3.12.11 is required,\"\n",
    "                \" but %s is installed.\" % pyversion)\n",
    "else:\n",
    "    print(FAIL, \"Unknown Python version: %s\" % pyversion)\n",
    "\n",
    "    \n",
    "print()\n",
    "requirements = {'matplotlib': \"3.10.5\", 'numpy': \"2.3.2\",'sklearn': \"1.7.1\", \n",
    "                'pandas': \"2.3.2\", 'pytest': \"8.4.1\", 'torch':\"2.7.1\"}\n",
    "\n",
    "# now the dependencies\n",
    "for lib, required_version in list(requirements.items()):\n",
    "    import_version(lib, required_version)"
   ]
  },
  {
   "cell_type": "code",
   "execution_count": 1,
   "metadata": {},
   "outputs": [],
   "source": [
    "# import packages here\n",
    "import numpy as np  # Used to perform efficient (and convenient) array and matrix operations.\n",
    "from sklearn import datasets  # Used to load standard datasets.\n",
    "from matplotlib import pyplot as plt  # Used to create plots.\n",
    "import math  # Used for trigonometric functions, log, pow, etc."
   ]
  },
  {
   "cell_type": "markdown",
   "metadata": {},
   "source": [
    "#### Part 1: Matplotlib (4 points)\n",
    "\n",
    "This question contains functions you need to fill out, `graph_iris_data` and `graph_series_data`. Note that the `plt.show()` call should be the last call, so add all of your graph customization below the TODO, but above the `show()` call!\n",
    "\n",
    "1.  call `plt.scatter(x, y, c=None)`, giving it the following arguments:\n",
    "\n",
    "    -  the `x` argument will be `xs`\n",
    "\n",
    "    -  the `y` argument will be `ys`\n",
    "\n",
    "    -  in order to give the plotted points color, we will specify the optional c argument. Thus, we will pass a third argument, `c = iris.target`\n",
    "\n",
    "2.  Look into the matplotlib.pyplot documentation and learn how to add titles and axis labels to plots. Add a title to the plot of the form \"Made by: \\[your name\\]\".\n",
    "\n",
    "3.  Examine the column names of the iris data to find appropriate x and y labels for the plot, and use pyplot commands to label the axes of the two iris plots."
   ]
  },
  {
   "cell_type": "code",
   "execution_count": null,
   "metadata": {},
   "outputs": [
    {
     "name": "stdout",
     "output_type": "stream",
     "text": [
      "['sepal length (cm)', 'sepal width (cm)', 'petal length (cm)', 'petal width (cm)']\n"
     ]
    },
    {
     "data": {
      "text/plain": [
       "Text(0, 0.5, 'sepal width (cm)')"
      ]
     },
     "execution_count": 4,
     "metadata": {},
     "output_type": "execute_result"
    },
    {
     "data": {
      "image/png": "[encoded data removed]",
      "text/plain": [
       "<Figure size 640x480 with 1 Axes>"
      ]
     },
     "metadata": {},
     "output_type": "display_data"
    }
   ],
   "source": [
    "# load the data\n",
    "iris = datasets.load_iris()\n",
    "data = iris.data\n",
    "xs = data[:, 0]\n",
    "ys = data[:, 1]\n",
    "\n",
    "# [TODO] plot iris data here\n",
    "\n",
    "# Create a scatter for the iris data\n",
    "plt.scatter(xs, ys, c=iris.target)\n",
    "\n",
    "# Add a title to the plot\n",
    "plt.title(\"Made by: Yawen Tan\")\n",
    "\n",
    "# Examine the column names of the iris data to find appropriate x and y labels for the plot\n",
    "print(iris.feature_names)\n",
    "\n",
    "# Add x and y labels to the plot\n",
    "plt.xlabel(iris.feature_names[0])\n",
    "plt.ylabel(iris.feature_names[1])\n",
    "\n",
    "plt.show()\n",
    "\n"
   ]
  },
  {
   "cell_type": "markdown",
   "metadata": {},
   "source": [
    "We will use a similar process for `graph_series_data`.\n",
    "\n",
    "1.  call `plt.plot(x, y, format)`, giving it the following arguments:\n",
    "\n",
    "    -  the `x` argument will be `xs`\n",
    "\n",
    "    -  the `y` argument will be `y1s`\n",
    "\n",
    "    -  the `format` argument will be `'.r'`\n",
    "\n",
    "2.  call `plt.plot(x, y, format)` again, giving it the following\n",
    "    arguments:\n",
    "\n",
    "    -  the `x` argument will be `xs`\n",
    "\n",
    "    -  the `y` argument will be `y2s`\n",
    "\n",
    "    -  the `format` argument will be `'-b'`\n",
    "\n",
    "3.  Add a title to the plot of the form \"Made by: \\[your name\\]\".\n",
    "\n",
    "4.  Use pyplot commands to add a legend to the series data plot, where each series is labeled with its function. Look [<u>here</u>](https://matplotlib.org/users/legend_guide.html) to start!"
   ]
  },
  {
   "cell_type": "code",
   "execution_count": null,
   "metadata": {},
   "outputs": [
    {
     "data": {
      "text/plain": [
       "Text(0.5, 1.0, 'Made by: Yawen Tan')"
      ]
     },
     "execution_count": 7,
     "metadata": {},
     "output_type": "execute_result"
    },
    {
     "data": {
      "image/png": "[encoded data removed]",
      "text/plain": [
       "<Figure size 640x480 with 1 Axes>"
      ]
     },
     "metadata": {},
     "output_type": "display_data"
    }
   ],
   "source": [
    "xs = np.arange(100) * .5 - 10  # Creates a list of 100 values in intervals of .5, starting at -10.\n",
    "# Numpy makes it very easy (and efficient) to do elementwise operations on large datasets.\n",
    "y1s = [x*x for x in xs]  # If you are unfamiliar, this is called Python's \"List Comprehension Syntax\"\n",
    "y2s = [math.sin(x)*x*x for x in xs]\n",
    "\n",
    "# https://matplotlib.org/users/pyplot_tutorial.html is a good starting point for more info.\n",
    "# [TODO] plot series data here\n",
    "\n",
    "# Create a plot with two series on it\n",
    "plt.plot(xs, y1s, '.r', label='F1: xs~y1s')\n",
    "plt.plot(xs, y2s, '-b',label='F2: xs~y2s')\n",
    "\n",
    "# Add legend and title to the plot\n",
    "plt.legend()\n",
    "plt.title(\"Made by: Yawen Tan\")\n",
    "\n",
    "plt.show()"
   ]
  },
  {
   "cell_type": "markdown",
   "metadata": {},
   "source": [
    "#### Part 2: Numpy (7 points)\n",
    "\n",
    "Answer the following questions using numpy functions. Note that when importing numpy, it is often abbreviated to np (i.e., `import numpy as np`), so when calling numpy functions, you can use np.\\[function\\]. Further, note that you may NOT use the np array constructor to solve these questions (i.e., `np.array(...)`). Some functions you may want to consider to approach this problem are `np.arange`, `np.zeros`, `np.ones`, `np.eye`, `np.sum`, `np.hstack`, `np.vstack`, `np.transpose`, `np.matmul`, `np.inner`, `np.where` and `np.dot`.\n",
    "\n",
    "-  Using numpy, how would you create a 1D array containing the values 2\n",
    "    through 6 inclusive?"
   ]
  },
  {
   "cell_type": "code",
   "execution_count": null,
   "metadata": {},
   "outputs": [
    {
     "name": "stdout",
     "output_type": "stream",
     "text": [
      "[2 3 4 5 6]\n"
     ]
    }
   ],
   "source": [
    "# Solution:\n",
    "# Create a 1D numpy array with values ranging from 2 to 6 (inclusive)\n",
    "array_1d = np.arange(2, 7)\n",
    "\n",
    "print(array_1d)"
   ]
  },
  {
   "cell_type": "markdown",
   "metadata": {},
   "source": [
    "-  Using numpy, how would you create a 4x4 matrix where all the values\n",
    "    are 1?"
   ]
  },
  {
   "cell_type": "code",
   "execution_count": null,
   "metadata": {},
   "outputs": [
    {
     "name": "stdout",
     "output_type": "stream",
     "text": [
      "[[1 1 1 1]\n",
      " [1 1 1 1]\n",
      " [1 1 1 1]\n",
      " [1 1 1 1]]\n"
     ]
    }
   ],
   "source": [
    "# Solution:\n",
    "\n",
    "# Create a 4x4 numpy matrix filled with ones\n",
    "matrix_1 = np.ones((4, 4),dtype=int)\n",
    "\n",
    "print(matrix_1)"
   ]
  },
  {
   "cell_type": "markdown",
   "metadata": {},
   "source": [
    "-  Using numpy, how would you create a 6x6 identity matrix?"
   ]
  },
  {
   "cell_type": "code",
   "execution_count": null,
   "metadata": {},
   "outputs": [
    {
     "name": "stdout",
     "output_type": "stream",
     "text": [
      "[[1 0 0 0 0 0]\n",
      " [0 1 0 0 0 0]\n",
      " [0 0 1 0 0 0]\n",
      " [0 0 0 1 0 0]\n",
      " [0 0 0 0 1 0]\n",
      " [0 0 0 0 0 1]]\n"
     ]
    }
   ],
   "source": [
    "# Solution:\n",
    "\n",
    "# Create a 6x6 identity matrix\n",
    "identity_matrix = np.eye(6,dtype=int)\n",
    "\n",
    "print(identity_matrix)"
   ]
  },
  {
   "cell_type": "markdown",
   "metadata": {},
   "source": [
    "-  Using numpy, how would you sum the values of each column of matrix\n",
    "    A?"
   ]
  },
  {
   "cell_type": "code",
   "execution_count": null,
   "metadata": {},
   "outputs": [
    {
     "name": "stdout",
     "output_type": "stream",
     "text": [
      "[4 6]\n"
     ]
    }
   ],
   "source": [
    "# Solution:\n",
    "\n",
    "# Create a matrix A\n",
    "A = np.array([[1, 2],\n",
    "              [3, 4]])\n",
    "# Compute the sum of each column in matrix A\n",
    "column_sums = np.sum(A, axis=0)\n",
    "\n",
    "print(column_sums)"
   ]
  },
  {
   "cell_type": "markdown",
   "metadata": {},
   "source": [
    "-  Using numpy, given the matrices `A` and `B`, how would you find the\n",
    "    matrix `C`, where `C` = `A`<sup>*T*</sup>`B`?"
   ]
  },
  {
   "cell_type": "code",
   "execution_count": 9,
   "metadata": {},
   "outputs": [
    {
     "name": "stdout",
     "output_type": "stream",
     "text": [
      "[[1 4]\n",
      " [2 6]]\n"
     ]
    }
   ],
   "source": [
    "# Solution:\n",
    "# Create matrix A and B\n",
    "A = np.array([[1, 2],\n",
    "              [3, 4]])\n",
    "B = np.array([[1, 1],\n",
    "              [0, 1]])\n",
    "# Calculate the matrix product of the transpose of A and B\n",
    "C = np.matmul(A.T, B)\n",
    "\n",
    "print(C)"
   ]
  },
  {
   "cell_type": "markdown",
   "metadata": {},
   "source": [
    "-  Using numpy, using either np.vstack or np.hstack, how would you\n",
    "    create a 4x2 matrix where all the values in the first column are 0’s\n",
    "    and all the values in the second column are 1’s?"
   ]
  },
  {
   "cell_type": "code",
   "execution_count": null,
   "metadata": {},
   "outputs": [
    {
     "name": "stdout",
     "output_type": "stream",
     "text": [
      "[[0 1]\n",
      " [0 1]\n",
      " [0 1]\n",
      " [0 1]]\n"
     ]
    }
   ],
   "source": [
    "# Solution:\n",
    "\n",
    "# Create 0 column and 1 column\n",
    "col_0 = np.zeros((4, 1),dtype=int)\n",
    "col_1 = np.ones((4, 1),dtype=int)\n",
    "\n",
    "# Combine the two columns side by side to form a 4x2 matrix\n",
    "matrix = np.hstack((col_0, col_1))\n",
    "\n",
    "print(matrix)\n"
   ]
  },
  {
   "cell_type": "markdown",
   "metadata": {},
   "source": [
    "-  Given a matrix of floats A, using numpy, how would you return an\n",
    "    array of the same shape, where all values \\> 3.0 are set to 1, and\n",
    "    the rest to 0?"
   ]
  },
  {
   "cell_type": "code",
   "execution_count": null,
   "metadata": {},
   "outputs": [
    {
     "name": "stdout",
     "output_type": "stream",
     "text": [
      "[[1 0]\n",
      " [1 0]]\n"
     ]
    }
   ],
   "source": [
    "# Solution:\n",
    "\n",
    "# Create matrix of floats A\n",
    "A = np.array([[4.1, 2.5],\n",
    "              [3.6, 1.2]])\n",
    "# Create matrix M where each element is 1 if the corresponding element in A is greater than 3.0, otherwise 0\n",
    "M = np.where(A > 3.0, 1, 0)\n",
    "\n",
    "print(M)"
   ]
  }
 ],
 "metadata": {
  "kernelspec": {
   "display_name": "data2060env",
   "language": "python",
   "name": "python3"
  },
  "language_info": {
   "codemirror_mode": {
    "name": "ipython",
    "version": 3
   },
   "file_extension": ".py",
   "mimetype": "text/x-python",
   "name": "python",
   "nbconvert_exporter": "python",
   "pygments_lexer": "ipython3",
   "version": "3.12.11"
  }
 },
 "nbformat": 4,
 "nbformat_minor": 4
}
